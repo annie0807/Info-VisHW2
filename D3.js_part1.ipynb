{
 "cells": [
  {
   "cell_type": "markdown",
   "metadata": {},
   "source": [
    "# D3.js 簡介 (Part 1)\n",
    "\n",
    "## I. HTML Elements\n",
    "\n",
    "### 常見的HTML元素\n",
    "\n",
    "#### `<h1>`, `<h2>`, ... , `<h6>`\n",
    "Header, 即標題，h1字體最大，h6字體最小\n",
    "\n",
    "#### `<p>`\n",
    "paragraph，段落，會自成一行\n",
    "\n",
    "#### `<span>`\n",
    "文字，不自成一行，能放在段落或其他物件中以表示與段落中的文字不同的性質\n",
    "\n",
    "#### `<div>`\n",
    "單獨存在沒有意義，但是使用`<div>`可以方便排版設計以及做階層化的管理\n",
    "\n",
    "#### `<svg>`\n",
    "向量圖\n",
    "\n",
    "> ##### `<g>`\n",
    "> 通常用於`<svg>` 中，能將向量圖中的元素分組管理\n",
    "\n",
    "#### `<script>`\n",
    "JavaScript程式碼，可以放在`<head>`或是`<body>`中，不過要注意不能存取到尚未初始化的html物件\n",
    "\n",
    "> ##### `<script src:\"...\">`\n",
    "> 要使用外部(或是獨立的)JavaScript程式碼時使用\n",
    "\n",
    "#### `<style>`\n",
    "CSS Style，定義 CSS 的性質。\n",
    "\n",
    "### ID 與 class\n",
    "\n",
    "可以在 html 物件中加入 `id` 和 `class` 屬性，通常是方便定義 css 屬性或是方便 JavaScript 存取用\n",
    "\n",
    "```html\n",
    "<tag id='idName' class='className'></tag>\n",
    "```\n",
    "\n",
    "> #### Class\n",
    "> `class` 用來指定物件的類別，通常用途相近的物件會定義相同的類別\n",
    "\n",
    "> #### id\n",
    "> `id` 用來指定物件的名稱，原則上不能將兩個物件定義相同的`id`, <br>\n",
    "> 不過即使違反這個原則，網頁還是能夠顯示，但是在 css 或是 JavaScript 取用 上會出現問題。"
   ]
  },
  {
   "cell_type": "code",
   "execution_count": null,
   "metadata": {},
   "outputs": [],
   "source": [
    "%%html\n",
    "<h1>標題1</h1>\n",
    "<h2>標題2</h2>\n",
    "<h3>標題3</h3>\n",
    "<h4>標題4</h4>\n",
    "<h5>標題5</h5>\n",
    "<h6>標題6</h6>\n",
    "\n",
    "<p>這是內文，<span style='color: blue'>這是span</span></p>\n",
    "\n",
    "<div style='width:100%; align:center;background:aliceblue'>\n",
    "    <span style='display:block;margin:auto;text-align:center'>這是div</span>\n",
    "</div>\n",
    "\n",
    "<div id='time'>\n",
    "    <span>用 JavaScript 控制 html 的元素<br></span>\n",
    "    <span></span>\n",
    "</div>\n",
    "\n",
    "<script>\n",
    "    //每次執行時取用id為'time'的物件並將期中的第2個子元素的值設為目前的時間\n",
    "    document.getElementById('time').children[1].innerHTML = (new Date()).toTimeString().split(' ')[0]\n",
    "</script>"
   ]
  },
  {
   "cell_type": "markdown",
   "metadata": {},
   "source": [
    "## II. D3.js\n",
    "D3.js (Data-Driven Documents) 是一個 JavaScript 的函式庫，能夠建立動態的視覺化圖形\n",
    "\n",
    "### 使用 D3.js"
   ]
  },
  {
   "cell_type": "code",
   "execution_count": null,
   "metadata": {},
   "outputs": [],
   "source": [
    "%%html\n",
    "<script src=\"https://d3js.org/d3.v6.js\"></script>"
   ]
  },
  {
   "cell_type": "markdown",
   "metadata": {},
   "source": [
    "在網頁中加入以上程式碼以引入 D3 函式庫"
   ]
  },
  {
   "cell_type": "markdown",
   "metadata": {},
   "source": [
    "### D3.js 的基本功能\n",
    "\n",
    "#### Selection\n",
    "\n",
    "使用 `d3.select()` 能夠使用 D3 選擇 html 物件  \n",
    "能夠依據 `tag`, `class`, `id` 來選擇物件\n",
    "\n",
    "```js\n",
    "d3.select('tagName')\n",
    "d3.select('.className')\n",
    "d3.select('#idName')\n",
    "```\n",
    "或是可以結合使用\n",
    "```js\n",
    "d3.select('tagName.ClassName')\n",
    "d3.select('.className#tagName')\n",
    "...\n",
    "```\n",
    "#### Modifier Functions\n",
    "\n",
    "- `d3.select().style()`  \n",
    "- `d3.select().attr()` \n",
    "- `d3.select().classed()` \n",
    "- `d3.select().property()`   \n",
    "- `d3.select().text()`  \n",
    "- `d3.select().html()` "
   ]
  },
  {
   "cell_type": "code",
   "execution_count": null,
   "metadata": {},
   "outputs": [],
   "source": [
    "%%html\n",
    "<g>Hello World!<g>"
   ]
  },
  {
   "cell_type": "code",
   "execution_count": null,
   "metadata": {},
   "outputs": [],
   "source": [
    "%%html\n",
    "<g class='gWithClass'>gWithClass</g>\n",
    "<g id='gWithId'>gWithId</g>"
   ]
  },
  {
   "cell_type": "code",
   "execution_count": null,
   "metadata": {},
   "outputs": [],
   "source": [
    "%%html\n",
    "<script>\n",
    "    d3.select('.gWithClass').html('helloClass')\n",
    "    d3.select('#gWithId').html('helloId')\n",
    "</script>"
   ]
  },
  {
   "cell_type": "markdown",
   "metadata": {},
   "source": [
    "#### 選擇多個物件\n",
    "\n",
    "使用 `d3.selectAll()` 可以一次選擇多個物件，使用方法大致與 `d3.select()` 相同"
   ]
  },
  {
   "cell_type": "code",
   "execution_count": null,
   "metadata": {},
   "outputs": [],
   "source": [
    "%%html\n",
    "<g class='multiClass'>g1</g>\n",
    "<g class='multiClass'>g2</g>"
   ]
  },
  {
   "cell_type": "code",
   "execution_count": null,
   "metadata": {},
   "outputs": [],
   "source": [
    "%%html\n",
    "<script>\n",
    "    d3.selectAll('.multiClass').html('modified')\n",
    "</script>"
   ]
  },
  {
   "cell_type": "markdown",
   "metadata": {},
   "source": [
    "#### Function Chaining\n",
    "\n",
    "透過 d3 取得的物件能夠連續套用多個不同的操作"
   ]
  },
  {
   "cell_type": "code",
   "execution_count": null,
   "metadata": {},
   "outputs": [],
   "source": [
    "%%html\n",
    "<text class='texts'>this is text1<br></text>\n",
    "<text class='texts' id='text2'>this is text2<br></text>\n",
    "<text class='texts'>this is text3<br></text>"
   ]
  },
  {
   "cell_type": "code",
   "execution_count": null,
   "metadata": {},
   "outputs": [],
   "source": [
    "%%html\n",
    "<script>\n",
    "    d3.selectAll('.texts').style('color','red')\n",
    "        .style('font-size', '16px')\n",
    "        .classed('red', true)\n",
    "</script>"
   ]
  },
  {
   "cell_type": "code",
   "execution_count": null,
   "metadata": {},
   "outputs": [],
   "source": [
    "%%html\n",
    "<script>\n",
    "    d3.selectAll('#text2').style('color', 'blue')\n",
    "        .style('font-size', '30px')\n",
    "        .classed('red', false)\n",
    "        .classed('blue', true)\n",
    "</script>"
   ]
  },
  {
   "cell_type": "code",
   "execution_count": null,
   "metadata": {},
   "outputs": [],
   "source": [
    "%%html\n",
    "<script>\n",
    "    d3.selectAll('.red').style('color', 'black')\n",
    "</script>"
   ]
  },
  {
   "cell_type": "markdown",
   "metadata": {},
   "source": [
    "[完整程式碼(codepen)](https://codepen.io/zovjsra/pen/GRNwGex)"
   ]
  },
  {
   "cell_type": "markdown",
   "metadata": {},
   "source": [
    "#### `append()` Function\n",
    "可以使用 `append()` 來增加子物件"
   ]
  },
  {
   "cell_type": "code",
   "execution_count": null,
   "metadata": {},
   "outputs": [],
   "source": [
    "%%html\n",
    "<div id='canvas1'></div>"
   ]
  },
  {
   "cell_type": "code",
   "execution_count": null,
   "metadata": {},
   "outputs": [],
   "source": [
    "%%html\n",
    "<script>\n",
    "    let svg0 = d3.select('#canvas1').append('svg')\n",
    "        .style('width', '500')\n",
    "        .style('height', '500')\n",
    "        .style('background', 'blue')\n",
    "</script>"
   ]
  },
  {
   "cell_type": "markdown",
   "metadata": {},
   "source": [
    "### 繪製 D3.js 圖表\n",
    "\n",
    "#### 定義 svg 區域"
   ]
  },
  {
   "cell_type": "code",
   "execution_count": null,
   "metadata": {},
   "outputs": [],
   "source": [
    "%%html\n",
    "<div id='canvas2'></div>"
   ]
  },
  {
   "cell_type": "code",
   "execution_count": null,
   "metadata": {},
   "outputs": [],
   "source": [
    "%%html\n",
    "<script>\n",
    "    let svg1 = d3.select('#canvas2').append('svg')\n",
    "        .style('width', '500')\n",
    "        .style('height', '500')\n",
    "</script>"
   ]
  },
  {
   "cell_type": "markdown",
   "metadata": {},
   "source": [
    "#### 繪製矩形"
   ]
  },
  {
   "cell_type": "code",
   "execution_count": null,
   "metadata": {},
   "outputs": [],
   "source": [
    "%%html\n",
    "<script>\n",
    "    svg1.append(\"rect\")\n",
    "        .attr(\"x\", 10)\n",
    "        .attr(\"y\", 10)\n",
    "        .attr('width', 100).attr('height', 100)\n",
    "        .style(\"fill\", \"blue\")\n",
    "</script>"
   ]
  },
  {
   "cell_type": "markdown",
   "metadata": {},
   "source": [
    "[完整程式碼(codepen)](https://codepen.io/zovjsra/pen/zYoMLOq)"
   ]
  },
  {
   "cell_type": "markdown",
   "metadata": {},
   "source": [
    "### 根據資料製作圖表\n",
    "#### 定義新的畫布"
   ]
  },
  {
   "cell_type": "code",
   "execution_count": null,
   "metadata": {},
   "outputs": [],
   "source": [
    "%%html\n",
    "<div id='canvas3'></div>\n",
    "\n",
    "<script>\n",
    "    let svg3 = d3.select('#canvas3').append('svg')\n",
    "        .style('height', '220') //將高度設為200\n",
    "</script>"
   ]
  },
  {
   "cell_type": "markdown",
   "metadata": {},
   "source": [
    "#### 載入資料\n",
    "這組資料是隨機生成的"
   ]
  },
  {
   "cell_type": "code",
   "execution_count": null,
   "metadata": {},
   "outputs": [],
   "source": [
    "%%html\n",
    "<script>\n",
    "    let data = [1535, 3081, 2494, 9078, 9843, 6856, 234, 529, 6729, 2321]\n",
    "</script>"
   ]
  },
  {
   "cell_type": "markdown",
   "metadata": {},
   "source": [
    "#### 根據資料生成矩形\n",
    "使用 `selectAll('rect')` 選擇物件中的所有矩形  \n",
    "接著呼叫 `data(data)` 可以載入外部的資料，載入資料後  \n",
    "程式會計算資料和選擇的物件之間的數量差，接下來，  \n",
    "如果要新增矩形，則呼叫 `enter()` 之後用 `append('rect')` 新增矩形  \n",
    "如果要減少矩形，則呼叫 `exit()` 之後用 `remove()` 刪除矩形  \n",
    "接下來就可以設定每一個矩形的位置及高度等屬性\n",
    "\n",
    "[Enter and exit(D3 in Depth)](https://www.d3indepth.com/enterexit/)"
   ]
  },
  {
   "cell_type": "code",
   "execution_count": null,
   "metadata": {},
   "outputs": [],
   "source": [
    "%%html\n",
    "<script>\n",
    "    let rects = svg3.selectAll(\"rect\")\n",
    "        .data(data)\n",
    "        .enter()\n",
    "        .append(\"rect\")\n",
    "        .attr(\"x\", (d, i) => {return i*10+10})\n",
    "        .attr(\"y\",10)\n",
    "        .attr('height', 20)\n",
    "        .attr('width', 5)\n",
    "        .style(\"fill\", \"red\")\n",
    "</script>"
   ]
  },
  {
   "cell_type": "markdown",
   "metadata": {},
   "source": [
    "接下來要利用 `scaleLinear()` 計算每個矩形的位置  \n",
    "也就是做線性變換  \n",
    "使用 `.domain()` 輸入資料的上下限  \n",
    "使用 `.range()` 輸入圖表的顯示範圍\n",
    "\n",
    "d3提供多種線性變換模型，可以根據資料選擇適合的模型  \n",
    "[d3-scale說明(github)](https://github.com/d3/d3-scale)"
   ]
  },
  {
   "cell_type": "code",
   "execution_count": null,
   "metadata": {},
   "outputs": [],
   "source": [
    "%%html\n",
    "<script>\n",
    "    let xScale = d3.scaleLinear()\n",
    "        .domain([0, data.length])\n",
    "        .range([0, 200])\n",
    "    let yScale = d3.scaleLinear()\n",
    "        .domain([0, 10000])\n",
    "        .range([100, 0])\n",
    "</script>"
   ]
  },
  {
   "cell_type": "markdown",
   "metadata": {},
   "source": [
    "接著將 `scaleLinear()` 計算的結果套用到圖形中"
   ]
  },
  {
   "cell_type": "code",
   "execution_count": null,
   "metadata": {},
   "outputs": [],
   "source": [
    "%%html\n",
    "<script>\n",
    "    rects.attr(\"x\", (d, i) => xScale(i) + 50)         //50為座標軸預留的空間\n",
    "        .attr(\"y\", (d, i) => yScale(d) + 100)         //100為座標軸預留的空間\n",
    "        .attr('height', (d, i) => 100 - yScale(d))    //因為 scaleLinear 的 range 為 [100, 1]，因此矩形的長度要用 100 扣掉\n",
    "        .attr('width', 15)\n",
    "</script>"
   ]
  },
  {
   "cell_type": "markdown",
   "metadata": {},
   "source": [
    "#### 加入座標軸\n",
    "\n",
    "先用 `d3.axisBottom(xScale)` 以及 `d3.axisLeft(yScale)` 定義座標軸"
   ]
  },
  {
   "cell_type": "code",
   "execution_count": null,
   "metadata": {},
   "outputs": [],
   "source": [
    "%%html\n",
    "<script>\n",
    "    let xAxis = d3.axisBottom(xScale)\n",
    "    let yAxis = d3.axisLeft(yScale)\n",
    "</script>"
   ]
  },
  {
   "cell_type": "markdown",
   "metadata": {},
   "source": [
    "接著將座標軸繪製到圖上"
   ]
  },
  {
   "cell_type": "code",
   "execution_count": null,
   "metadata": {},
   "outputs": [],
   "source": [
    "%%html\n",
    "<script>\n",
    "    svg3.append('g').attr('class', 'axis')\n",
    "        .attr('transform', 'translate(50, 100)') //y軸的位置\n",
    "        .call(yAxis)\n",
    "    \n",
    "    svg3.append('g').attr('class', 'axis')\n",
    "        .attr('transform', 'translate(50, 200)') //x軸的位置\n",
    "        .call(xAxis)\n",
    "</script>"
   ]
  },
  {
   "cell_type": "markdown",
   "metadata": {},
   "source": [
    "[完整程式碼(codepen)](https://codepen.io/zovjsra/pen/PobxBwd)"
   ]
  },
  {
   "cell_type": "markdown",
   "metadata": {},
   "source": [
    "### D3.js 的矩陣操作\n",
    "D3.js 提供了多個矩陣操作的函式\n",
    "```js\n",
    "let arr\n",
    "\n",
    "d3.max(arr)\n",
    "d3.min(arr)\n",
    "d3.extent(arr)    //同時找到最小及最大的元素\n",
    "d3.sum(arr)\n",
    "d3.median(arr)    //中位數\n",
    "d3.mean(arr)      //平均數\n",
    "arr.sort(d3.ascending)  //順序排序\n",
    "arr.sort(d3.descending) //倒序排序\n",
    "d3.quantile(arr.sort(d3.ascending), 0.25) //第一四分位數(0.25的位置)\n",
    "d3.deviation(arr) //標準差\n",
    "```"
   ]
  },
  {
   "cell_type": "markdown",
   "metadata": {},
   "source": [
    "## III. 其他參考資料\n",
    "\n",
    "- D3js.org\n",
    ">- https://github.com/d3/d3/wiki/Gallery\n",
    "-Observable\n",
    ">- https://observablehq.com/explore"
   ]
  },
  {
   "cell_type": "code",
   "execution_count": null,
   "metadata": {},
   "outputs": [],
   "source": []
  }
 ],
 "metadata": {
  "kernelspec": {
   "display_name": "Python 3 (ipykernel)",
   "language": "python",
   "name": "python3"
  },
  "language_info": {
   "codemirror_mode": {
    "name": "ipython",
    "version": 3
   },
   "file_extension": ".py",
   "mimetype": "text/x-python",
   "name": "python",
   "nbconvert_exporter": "python",
   "pygments_lexer": "ipython3",
   "version": "3.9.7"
  }
 },
 "nbformat": 4,
 "nbformat_minor": 4
}
